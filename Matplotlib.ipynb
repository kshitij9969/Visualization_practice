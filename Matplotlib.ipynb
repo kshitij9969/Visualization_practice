{
  "nbformat": 4,
  "nbformat_minor": 0,
  "metadata": {
    "colab": {
      "name": "Matplotlib.ipynb",
      "provenance": [],
      "collapsed_sections": [],
      "authorship_tag": "ABX9TyM0/NlT+cH8yVv+AKQRv0nK",
      "include_colab_link": true
    },
    "kernelspec": {
      "name": "python3",
      "display_name": "Python 3"
    },
    "language_info": {
      "name": "python"
    }
  },
  "cells": [
    {
      "cell_type": "markdown",
      "metadata": {
        "id": "view-in-github",
        "colab_type": "text"
      },
      "source": [
        "<a href=\"https://colab.research.google.com/github/kshitij9969/Visualization_practice/blob/main/Matplotlib.ipynb\" target=\"_parent\"><img src=\"https://colab.research.google.com/assets/colab-badge.svg\" alt=\"Open In Colab\"/></a>"
      ]
    },
    {
      "cell_type": "code",
      "execution_count": 1,
      "metadata": {
        "id": "NCZLPzTaXOGn"
      },
      "outputs": [],
      "source": [
        "import matplotlib as mpl\n",
        "import matplotlib.pyplot as plt\n",
        "import numpy as np\n",
        "import pandas as pd"
      ]
    },
    {
      "cell_type": "code",
      "source": [
        "\"\"\"\n",
        "Figure: Top level container for all plot elements. \n",
        "Axes: Each figure contains one or more axes. Axes is an area where points\n",
        "can be specified in terms of x-y coordinates. \n",
        "\"\"\"\n",
        "\n",
        "figure, ax = plt.subplots() # one figure one axes\n",
        "ax.plot([1, 2, 3, 4], [5, 6, 7, 8])\n",
        "\n",
        "# The Figure keeps track of all the child Axes, \n",
        "# a group of special Artists(titles, figure, legends, colorbars, etc)\n",
        "\n",
        "\n",
        "figure = plt.figure()\n",
        "fig, ax = plt.subplots() # one figure one axes\n",
        "fig, ax = plt.subplots(2, 2) # one figure with 2 x 2 grid axes\n",
        "\n",
        "# Axes is an Artist attached to a figure that contains a region for plotting\n",
        "# data, and include 2 or 3 Axis objects. Axis objects have ticks and tick labels. \n",
        "# Axes also has a title, xlabel, and ylabel\n",
        "\n",
        "# Artist: Everything visible on the Figure is an Artist(even Figure, Axes, Axis). \n",
        "# When the figure is rendered all the Artists are drawn to the canvas. Artist cannot be shared by multiple Axes. \n",
        "\n",
        "\n",
        "\n",
        "\n"
      ],
      "metadata": {
        "colab": {
          "base_uri": "https://localhost:8080/",
          "height": 282
        },
        "id": "Hd9n_Xoha41L",
        "outputId": "594d73c6-57f1-4a54-87b5-9182663f85e8"
      },
      "execution_count": 2,
      "outputs": [
        {
          "output_type": "execute_result",
          "data": {
            "text/plain": [
              "[<matplotlib.lines.Line2D at 0x7f1342db4610>]"
            ]
          },
          "metadata": {},
          "execution_count": 2
        },
        {
          "output_type": "display_data",
          "data": {
            "image/png": "[encoded data removed]",
            "text/plain": [
              "<Figure size 432x288 with 1 Axes>"
            ]
          },
          "metadata": {
            "needs_background": "light"
          }
        }
      ]
    },
    {
      "cell_type": "code",
      "source": [
        ""
      ],
      "metadata": {
        "id": "_OUTvhKSbuUB"
      },
      "execution_count": null,
      "outputs": []
    }
  ]
}